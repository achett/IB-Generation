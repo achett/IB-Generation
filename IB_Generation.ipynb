{
  "nbformat": 4,
  "nbformat_minor": 0,
  "metadata": {
    "colab": {
      "provenance": [],
      "mount_file_id": "1oJgWE94ImlJyh_qMwXI2f9EFgy9pdoBu",
      "authorship_tag": "ABX9TyP5g/ZScogZOFTOcrUjc5Zm",
      "include_colab_link": true
    },
    "kernelspec": {
      "name": "python3",
      "display_name": "Python 3"
    },
    "language_info": {
      "name": "python"
    }
  },
  "cells": [
    {
      "cell_type": "markdown",
      "metadata": {
        "id": "view-in-github",
        "colab_type": "text"
      },
      "source": [
        "<a href=\"https://colab.research.google.com/github/achett/IB-Generation/blob/main/IB_Generation.ipynb\" target=\"_parent\"><img src=\"https://colab.research.google.com/assets/colab-badge.svg\" alt=\"Open In Colab\"/></a>"
      ]
    },
    {
      "cell_type": "code",
      "source": [
        "# !pip -q install openai==0.27.0 langchain huggingface_hub\n",
        "# !pip install --upgrade --quiet  openllm\n",
        "# !pip install gpt4all\n",
        "# !pip install xmltodict\n",
        "# !pip install python-dotenv\n",
        "# !pip install langchain_experimental\n",
        "# !pip install llama-cpp-python"
      ],
      "metadata": {
        "id": "E9k-u_o7DhjV",
        "colab": {
          "base_uri": "https://localhost:8080/"
        },
        "outputId": "9322c9e5-b424-4c1f-e0e7-7e75e6dd1ee8"
      },
      "execution_count": 18,
      "outputs": [
        {
          "output_type": "stream",
          "name": "stdout",
          "text": [
            "Requirement already satisfied: gpt4all in /usr/local/lib/python3.10/dist-packages (2.2.1)\n",
            "Requirement already satisfied: requests in /usr/local/lib/python3.10/dist-packages (from gpt4all) (2.31.0)\n",
            "Requirement already satisfied: tqdm in /usr/local/lib/python3.10/dist-packages (from gpt4all) (4.66.1)\n",
            "Requirement already satisfied: charset-normalizer<4,>=2 in /usr/local/lib/python3.10/dist-packages (from requests->gpt4all) (3.3.2)\n",
            "Requirement already satisfied: idna<4,>=2.5 in /usr/local/lib/python3.10/dist-packages (from requests->gpt4all) (3.6)\n",
            "Requirement already satisfied: urllib3<3,>=1.21.1 in /usr/local/lib/python3.10/dist-packages (from requests->gpt4all) (2.0.7)\n",
            "Requirement already satisfied: certifi>=2017.4.17 in /usr/local/lib/python3.10/dist-packages (from requests->gpt4all) (2024.2.2)\n",
            "Requirement already satisfied: xmltodict in /usr/local/lib/python3.10/dist-packages (0.13.0)\n",
            "Requirement already satisfied: python-dotenv in /usr/local/lib/python3.10/dist-packages (1.0.1)\n"
          ]
        }
      ]
    },
    {
      "cell_type": "code",
      "source": [
        "import os\n",
        "from langchain.prompts import PromptTemplate\n",
        "from langchain.llms import OpenAI, AzureOpenAI\n",
        "from langchain.chat_models import AzureChatOpenAI\n",
        "from langchain.chains import LLMChain, LLMSummarizationCheckerChain\n",
        "from langchain.callbacks.streaming_stdout import StreamingStdOutCallbackHandler\n",
        "from langchain.chains import LLMChain\n",
        "from langchain.prompts import PromptTemplate\n",
        "from langchain_community.llms import GPT4All\n",
        "from langchain.prompts.chat import ChatPromptTemplate\n",
        "from langchain_core.output_parsers import StrOutputParser\n",
        "from langchain import hub\n",
        "from langchain.agents import AgentExecutor, create_react_agent\n",
        "from langchain_community.tools.pubmed.tool import PubmedQueryRun\n",
        "import openai\n",
        "import textwrap\n",
        "import dotenv\n",
        "from langchain.chains import LLMChain\n",
        "from langchain.memory import ConversationBufferMemory\n",
        "from langchain_experimental.chat_models import Llama2Chat\n",
        "from os.path import expanduser\n",
        "from langchain_community.llms import LlamaCpp\n",
        "from langchain.prompts.chat import (\n",
        "    ChatPromptTemplate,\n",
        "    HumanMessagePromptTemplate,\n",
        "    MessagesPlaceholder,\n",
        ")\n",
        "from langchain.schema import SystemMessage"
      ],
      "metadata": {
        "id": "mRdMFzEoscwc"
      },
      "execution_count": 1,
      "outputs": []
    },
    {
      "cell_type": "code",
      "source": [
        "######################\n",
        "# AZURE OPENAI MODEL\n",
        "######################\n",
        "dotenv.load_dotenv('/content/drive/MyDrive/Colab Notebooks/IB Generation/.env')\n",
        "\n",
        "AZURE_OPENAI_KEY = os.environ.get(\"AZURE_OPENAI_KEY\")\n",
        "AZURE_OPENAI_ENDPOINT = os.environ.get(\"AZURE_OPENAI_ENDPOINT\")\n",
        "AZURE_OPENAI_VERSION = os.environ.get(\"AZURE_OPENAI_VERSION\")\n",
        "AZURE_OPENAI_CHATGPT_DEPLOYMENT = os.environ.get(\"AZURE_OPENAI_CHATGPT_DEPLOYMENT\") or \"chatgpt\" #GPT turbo\n",
        "TEMPERATURE = float(os.environ.get(\"TEMPERATURE\"))\n",
        "if 'AZURE_OPENAI_KEY' not in os.environ:\n",
        "    raise RuntimeError(\"No 'AZURE_OPENAI_KEY' env var set.  Please see README.\")\n",
        "if 'AZURE_OPENAI_VERSION' not in os.environ:\n",
        "    raise RuntimeError(\"No API version specified, please set it up as an environment variable\")\n",
        "\n",
        "# configure azure openai for langchain and/or llm\n",
        "openai.api_key = AZURE_OPENAI_KEY\n",
        "openai.api_base = AZURE_OPENAI_ENDPOINT # your endpoint should look like the following https://YOUR_RESOURCE_NAME.openai.azure.com/\n",
        "openai.api_type = 'azure'\n",
        "openai.api_version = AZURE_OPENAI_VERSION # this may change in the future\n",
        "                                    # for langchain, set this version in environment variables using OPENAI_API_VERSION\n",
        "\n",
        "\n",
        "llm = AzureChatOpenAI(deployment_name=AZURE_OPENAI_CHATGPT_DEPLOYMENT, temperature=TEMPERATURE, openai_api_key=AZURE_OPENAI_KEY, api_version=AZURE_OPENAI_VERSION)"
      ],
      "metadata": {
        "id": "DAAOFneuDse6",
        "colab": {
          "base_uri": "https://localhost:8080/"
        },
        "outputId": "6f83002b-87d8-42b9-c147-6d36a5913885"
      },
      "execution_count": 9,
      "outputs": [
        {
          "output_type": "stream",
          "name": "stderr",
          "text": [
            "/usr/local/lib/python3.10/dist-packages/langchain_core/_api/deprecation.py:117: LangChainDeprecationWarning: The class `langchain_community.chat_models.azure_openai.AzureChatOpenAI` was deprecated in langchain-community 0.0.10 and will be removed in 0.2.0. An updated version of the class exists in the langchain-openai package and should be used instead. To use it run `pip install -U langchain-openai` and import as `from langchain_openai import AzureChatOpenAI`.\n",
            "  warn_deprecated(\n"
          ]
        }
      ]
    },
    {
      "cell_type": "code",
      "source": [
        "# ######################\n",
        "# # GPT4ALL\n",
        "# ######################\n",
        "# local_path = (\n",
        "#     \"/content/drive/MyDrive/Colab Notebooks/IB Generation/models/gpt4all-falcon-newbpe-q4_0.gguf\"  # replace with your desired local file path\n",
        "# )\n",
        "\n",
        "# # Callbacks support token-wise streaming\n",
        "# callbacks = [StreamingStdOutCallbackHandler()]\n",
        "\n",
        "# # Verbose is required to pass to the callback manager\n",
        "# llm = GPT4All(model=local_path, callbacks=callbacks, verbose=True)\n",
        "\n",
        "# # If you want to use a custom model add the backend parameter\n",
        "# # Check https://docs.gpt4all.io/gpt4all_python.html for supported backends\n",
        "# llm = GPT4All(model=local_path, backend=\"gptj\", callbacks=callbacks, verbose=True)"
      ],
      "metadata": {
        "id": "r5RNaq9VTeiC"
      },
      "execution_count": null,
      "outputs": []
    },
    {
      "cell_type": "code",
      "source": [
        "######################\n",
        "# LLAMA\n",
        "######################\n",
        "model_path = expanduser(\"/content/drive/MyDrive/Colab Notebooks/IB Generation/models/llama-2-7b-chat.Q4_0.gguf\")\n",
        "\n",
        "llm = LlamaCpp(\n",
        "    model_path=model_path,\n",
        "    temperature=0.0,\n",
        "    streaming=False,\n",
        "    max_tokens=2000\n",
        ")\n",
        "llm = Llama2Chat(llm=llm)"
      ],
      "metadata": {
        "id": "l_rttltfws_N"
      },
      "execution_count": null,
      "outputs": []
    },
    {
      "cell_type": "code",
      "source": [
        "\n",
        "\n",
        "template_messages = [\n",
        "    SystemMessage(content=\"Generate a summary of the following text:\"),\n",
        "    HumanMessagePromptTemplate.from_template(\"{text}\"),\n",
        "]\n",
        "\n",
        "prompt_template = ChatPromptTemplate.from_messages(template_messages)\n",
        "\n",
        "\n",
        "chain = LLMChain(llm=llm, prompt=prompt_template)\n",
        "\n",
        "print(\n",
        "    chain.run(\n",
        "        text=content\n",
        "    )\n",
        ")"
      ],
      "metadata": {
        "id": "DI-vqIHOrVg3"
      },
      "execution_count": null,
      "outputs": []
    },
    {
      "cell_type": "code",
      "source": [
        "tokens = content.split()  # Splits on whitespace by default\n",
        "number_of_tokens = len(tokens)\n",
        "print(number_of_tokens)"
      ],
      "metadata": {
        "id": "Oz5oI1piCx__"
      },
      "execution_count": null,
      "outputs": []
    },
    {
      "cell_type": "code",
      "source": [
        "######################\n",
        "# DATA\n",
        "######################\n",
        "with open('/content/drive/MyDrive/Colab Notebooks/IB Generation/data/source.txt', 'r') as file:\n",
        "    content = file.read()\n",
        "\n",
        "with open('/content/drive/MyDrive/Colab Notebooks/IB Generation/data/target.txt', 'r') as file:\n",
        "    target = file.read()\n",
        "\n",
        "content = ' '.join(content.split())\n",
        "target = ' '.join(target.split())\n",
        "\n",
        "wrapped_text = textwrap.fill(content,\n",
        "                             width=100,\n",
        "                             break_long_words=False,\n",
        "                             replace_whitespace=False)\n",
        "print(wrapped_text)"
      ],
      "metadata": {
        "colab": {
          "base_uri": "https://localhost:8080/"
        },
        "id": "SoWYFBrn4flp",
        "outputId": "81d3f64b-72d8-4982-dd3a-eda359be9c48"
      },
      "execution_count": 17,
      "outputs": [
        {
          "output_type": "stream",
          "name": "stdout",
          "text": [
            "Project 1 was administered orally once daily for 4 weeks at dose levels of 0 (vehicle), 10, 30, 100,\n",
            "and 800 mg/kg to 3 male and 3 female cynomolgus monkeys per group in order to investigate its\n",
            "toxicity. Three males and three females were added to the 800 mg/kg group in order to assess the\n",
            "reversibility of toxicity observed during the dosing period in a subsequent 4-week recovery period.\n",
            "Animals in the control group received 0.5 w/v% methylcellulose solution. No animal died or was\n",
            "sacrificed due to moribundity in any group during the dosing or recovery period. In the 10, 30, and\n",
            "100 mg/kg groups, no toxicologically significant changes were noted in any examination during the\n",
            "dosing period. In the 800 mg/kg group, vomiting was observed in males and females on 1 to 5 days\n",
            "mainly at Weeks 1 and 2 of dosing. Salivation was observed in males and females immediately after\n",
            "dosing during the dosing period. Decreased body weight was noted in males and females during the\n",
            "dosing period. Low erythrocyte count, hematocrit value, and hemoglobin concentration were noted in 1\n",
            "male and 1 female on Day 27 of dosing. High triglycerides were noted in males and females on Days 14\n",
            "and/or 27 of dosing, and high glucose was noted in 1 male on Days 14 and 27 of dosing. High relative\n",
            "liver weight in males and low absolute and relative adrenal weights in 1 female were noted at the\n",
            "end of the dosing period. In toxicokinetics, Tmax was between 0.5 and 4 hours after dosing. Cmax\n",
            "increased with dose in both males and females, except for females at 100 mg/kg on Day 28 of dosing.\n",
            "Cmax in females at 100 mg/kg on Day 28 of dosing was lower than that at 30 mg/kg on Day 28 of\n",
            "dosing. The degree of the increase was almost dose proportional in males and females between 10 and\n",
            "100 mg/kg, and was greater than the dose increase between 100 and 800 mg/kg. AUC0-24h increased with\n",
            "dose in both males and females. The degree of the increase was almost dose proportional in males and\n",
            "females between 10 and 30 mg/kg, and was greater than the dose increase between 30 and 800 mg/kg. No\n",
            "apparent gender difference was noted in any TK parameter. There were no marked differences in any TK\n",
            "parameter after repeated dosing. The changes noted during the dosing period recovered during the\n",
            "4-week recovery period. From these results it was concluded that, the no-observed-adverse-effect\n",
            "level of Project 1 (as PROJECT 1) when administered orally to monkeys for 4 weeks was 100 mg/kg/day\n",
            "for males and females. The changes noted during the dosing period recovered during the 4-week\n",
            "recovery period.\n"
          ]
        }
      ]
    },
    {
      "cell_type": "code",
      "source": [
        "######################\n",
        "# FACTS\n",
        "######################\n",
        "llm_prompt = ChatPromptTemplate.from_messages([\n",
        "        (\"system\", \"Extract the key facts out of this text. Don't include opinions. Give each fact a number and keep them short sentences\"),\n",
        "        (\"user\", \"{prompt}\")\n",
        "    ])\n",
        "\n",
        "output_parser = StrOutputParser()\n",
        "\n",
        "chain = llm_prompt | llm | output_parser\n",
        "\n",
        "facts = chain.invoke({\"prompt\":content})\n",
        "\n",
        "wrapped_facts = textwrap.fill(facts,\n",
        "                             width=1000,\n",
        "                             break_long_words=False,\n",
        "                             replace_whitespace=False)\n",
        "\n",
        "print(wrapped_facts)"
      ],
      "metadata": {
        "colab": {
          "base_uri": "https://localhost:8080/"
        },
        "id": "_D78WiyOgQoo",
        "outputId": "c953f0fb-74d8-4d25-c443-d208cc5ada31"
      },
      "execution_count": 11,
      "outputs": [
        {
          "output_type": "stream",
          "name": "stdout",
          "text": [
            "1. Project 1 was administered orally to cynomolgus monkeys for 4 weeks at doses of 0, 10, 30, 100, and 800 mg/kg.\n",
            "2. Each dose group consisted of 3 male and 3 female monkeys.\n",
            "3. An additional 3 males and 3 females were added to the 800 mg/kg group for a 4-week recovery period.\n",
            "4. The control group received a 0.5 w/v% methylcellulose solution.\n",
            "5. No animal died or was sacrificed due to moribundity during the study.\n",
            "6. No toxicologically significant changes were observed in the 10, 30, and 100 mg/kg groups.\n",
            "7. Vomiting, salivation, and decreased body weight were observed in the 800 mg/kg group.\n",
            "8. Low erythrocyte count, hematocrit value, and hemoglobin concentration were noted in 1 male and 1 female in the 800 mg/kg group.\n",
            "9. High triglycerides were observed in the 800 mg/kg group.\n",
            "10. High glucose levels were noted in 1 male in the 800 mg/kg group.\n",
            "11. High relative liver weight in males and low adrenal weights in 1 female were observed in the 800 mg/kg group.\n",
            "12. Tmax occurred between\n",
            "0.5 and 4 hours after dosing.\n",
            "13. Cmax and AUC0-24h increased with dose in both males and females.\n",
            "14. No gender differences were noted in toxicokinetic parameters.\n",
            "15. Changes observed during the dosing period recovered during the 4-week recovery period.\n",
            "16. The no-observed-adverse-effect level (NOAEL) for Project 1 was determined to be 100 mg/kg/day for both males and females.\n"
          ]
        }
      ]
    },
    {
      "cell_type": "code",
      "source": [
        "######################\n",
        "# Abstractive + Zero Shot Prompt\n",
        "######################\n",
        "llm_prompt = ChatPromptTemplate.from_messages([\n",
        "        (\"system\", \"Generate a summary of the following text:\"),\n",
        "        (\"user\", \"{prompt}\")\n",
        "    ])\n",
        "\n",
        "output_parser = StrOutputParser()\n",
        "\n",
        "chain = llm_prompt | llm | output_parser\n",
        "\n",
        "facts = chain.invoke({\"prompt\":content})\n",
        "\n",
        "wrapped_facts = textwrap.fill(facts,\n",
        "                             width=100,\n",
        "                             break_long_words=False,\n",
        "                             replace_whitespace=False)\n",
        "\n",
        "print(wrapped_facts)"
      ],
      "metadata": {
        "colab": {
          "base_uri": "https://localhost:8080/"
        },
        "id": "mfB_mOA6lSUs",
        "outputId": "604b963c-bbf2-4624-9d5c-e661dd46e4e6"
      },
      "execution_count": 12,
      "outputs": [
        {
          "output_type": "stream",
          "name": "stdout",
          "text": [
            "Project 1 was tested for toxicity in cynomolgus monkeys over a 4-week period with doses ranging from\n",
            "0 (control) to 800 mg/kg, followed by a 4-week recovery period for the highest dose group. The study\n",
            "involved equal numbers of male and female monkeys across all dose groups. No deaths or moribundity-\n",
            "related sacrifices occurred. At doses up to 100 mg/kg, no significant toxicological changes were\n",
            "observed. However, at 800 mg/kg, adverse effects such as vomiting, salivation, decreased body\n",
            "weight, alterations in blood parameters (low erythrocyte count, hematocrit value, and hemoglobin\n",
            "concentration), high triglycerides, high glucose, and changes in liver and adrenal weights were\n",
            "noted. Toxicokinetic analysis showed that the maximum concentration (Cmax) and area under the curve\n",
            "(AUC0-24h) of Project 1 increased with dose, with no significant gender differences or marked\n",
            "differences after repeated dosing. All changes observed during the dosing period were reversible\n",
            "during the recovery period. The study concluded that the no-observed-adverse-effect level (NOAEL)\n",
            "for Project 1 in monkeys is 100 mg/kg/day for both males and females.\n"
          ]
        }
      ]
    },
    {
      "cell_type": "code",
      "source": [
        "######################\n",
        "# Abstractive + Few Shot Prompt\n",
        "######################\n",
        "from langchain.prompts import (\n",
        "    ChatPromptTemplate,\n",
        "    FewShotChatMessagePromptTemplate,\n",
        ")\n",
        "\n",
        "with open('/content/drive/MyDrive/Colab Notebooks/IB Generation/data/source2.txt', 'r', errors='ignore') as file:\n",
        "    source2 = file.read()\n",
        "source2 = ' '.join(source2.split())\n",
        "\n",
        "with open('/content/drive/MyDrive/Colab Notebooks/IB Generation/data/source3.txt', 'r') as file:\n",
        "    source3 = file.read()\n",
        "source3 = ' '.join(source3.split())\n",
        "\n",
        "with open('/content/drive/MyDrive/Colab Notebooks/IB Generation/data/target2.txt', 'r') as file:\n",
        "    target2 = file.read()\n",
        "target2 = ' '.join(target2.split())\n",
        "\n",
        "with open('/content/drive/MyDrive/Colab Notebooks/IB Generation/data/target3.txt', 'r') as file:\n",
        "    target3 = file.read()\n",
        "target3 = ' '.join(target3.split())\n",
        "\n",
        "examples = [\n",
        "    {\"input\": source2, \"output\": target2},\n",
        "    {\"input\": source3, \"output\": target3},\n",
        "]\n",
        "\n",
        "# This is a prompt template used to format each individual example.\n",
        "example_prompt = ChatPromptTemplate.from_messages([\n",
        "        (\"human\", \"{input}\"),\n",
        "        (\"ai\", \"{output}\"),\n",
        "    ])\n",
        "\n",
        "few_shot_prompt = FewShotChatMessagePromptTemplate(\n",
        "    example_prompt=example_prompt,\n",
        "    examples=examples,\n",
        ")\n",
        "\n",
        "llm_prompt = ChatPromptTemplate.from_messages(\n",
        "    [\n",
        "        (\"system\", \"Generate a summary of the following text:\"),\n",
        "        few_shot_prompt,\n",
        "        (\"human\", \"{input}\"),\n",
        "    ]\n",
        ")\n",
        "\n",
        "\n",
        "output_parser = StrOutputParser()\n",
        "\n",
        "chain = llm_prompt | llm | output_parser\n",
        "\n",
        "facts = chain.invoke({\"input\":content})\n",
        "\n",
        "wrapped_facts = textwrap.fill(facts,\n",
        "                             width=100,\n",
        "                             break_long_words=False,\n",
        "                             replace_whitespace=False)\n",
        "\n",
        "print(wrapped_facts)"
      ],
      "metadata": {
        "colab": {
          "base_uri": "https://localhost:8080/"
        },
        "id": "y9aCm4hDnzYI",
        "outputId": "118fe0d7-9514-4777-d640-1cf0cb6c9704"
      },
      "execution_count": 14,
      "outputs": [
        {
          "output_type": "stream",
          "name": "stdout",
          "text": [
            "Project 1 was administered orally to cynomolgus monkeys at doses of 0 (vehicle), 10, 30, 100, and\n",
            "800 mg/kg daily for 4 weeks, with a subsequent 4-week recovery period for the 800 mg/kg group to\n",
            "assess reversibility of observed toxicities. No deaths or moribundity-related sacrifices occurred.\n",
            "In the 10, 30, and 100 mg/kg groups, no significant toxicological changes were observed. However, in\n",
            "the 800 mg/kg group, adverse effects such as vomiting, salivation, decreased body weight,\n",
            "alterations in blood parameters (low erythrocyte count, hematocrit value, and hemoglobin\n",
            "concentration), high triglycerides, high glucose, high relative liver weight, and low adrenal\n",
            "weights were noted. Toxicokinetic analysis showed Tmax between 0.5 and 4 hours, with Cmax and\n",
            "AUC0-24h increasing dose-dependently, indicating no significant gender differences or marked\n",
            "differences after repeated dosing. The observed changes during the dosing period were reversible\n",
            "during the recovery period. The no-observed-adverse-effect level (NOAEL) for Project 1 in monkeys\n",
            "was determined to be 100 mg/kg/day based on the study findings.\n"
          ]
        }
      ]
    },
    {
      "cell_type": "code",
      "source": [
        "######################\n",
        "# Abstractive + Chain (Facts and Fact Checker)\n",
        "######################\n",
        "checker_chain = LLMSummarizationCheckerChain(llm=llm,\n",
        "                                             verbose=True,\n",
        "                                             max_checks=2\n",
        "                                             )\n",
        "\n",
        "final_summary = checker_chain.run(content)\n",
        "final_summary"
      ],
      "metadata": {
        "colab": {
          "base_uri": "https://localhost:8080/",
          "height": 1000
        },
        "id": "p0C6Yfgd4s9E",
        "outputId": "a8b57bfb-ded1-46c2-f68a-cd8a09a493d3"
      },
      "execution_count": 15,
      "outputs": [
        {
          "output_type": "stream",
          "name": "stderr",
          "text": [
            "/usr/local/lib/python3.10/dist-packages/langchain/chains/llm_summarization_checker/base.py:107: UserWarning: Directly instantiating an LLMSummarizationCheckerChain with an llm is deprecated. Please instantiate with sequential_chain argument or using the from_llm class method.\n",
            "  warnings.warn(\n",
            "/usr/local/lib/python3.10/dist-packages/langchain_core/_api/deprecation.py:117: LangChainDeprecationWarning: The function `run` was deprecated in LangChain 0.1.0 and will be removed in 0.2.0. Use invoke instead.\n",
            "  warn_deprecated(\n"
          ]
        },
        {
          "output_type": "stream",
          "name": "stdout",
          "text": [
            "\n",
            "\n",
            "\u001b[1m> Entering new LLMSummarizationCheckerChain chain...\u001b[0m\n",
            "\n",
            "\n",
            "\u001b[1m> Entering new SequentialChain chain...\u001b[0m\n",
            "\n",
            "\n",
            "\u001b[1m> Entering new LLMChain chain...\u001b[0m\n",
            "Prompt after formatting:\n",
            "\u001b[32;1m\u001b[1;3mGiven some text, extract a list of facts from the text.\n",
            "\n",
            "Format your output as a bulleted list.\n",
            "\n",
            "Text:\n",
            "\"\"\"\n",
            "Project 1 was administered orally once daily for 4 weeks at dose levels of 0 (vehicle), 10, 30, 100, and 800 mg/kg to 3 male and 3 female cynomolgus monkeys per group in order to investigate its toxicity. Three males and three females were added to the 800 mg/kg group in order to assess the reversibility of toxicity observed during the dosing period in a subsequent 4-week recovery period. Animals in the control group received 0.5 w/v% methylcellulose solution. No animal died or was sacrificed due to moribundity in any group during the dosing or recovery period. In the 10, 30, and 100 mg/kg groups, no toxicologically significant changes were noted in any examination during the dosing period. In the 800 mg/kg group, vomiting was observed in males and females on 1 to 5 days mainly at Weeks 1 and 2 of dosing. Salivation was observed in males and females immediately after dosing during the dosing period. Decreased body weight was noted in males and females during the dosing period. Low erythrocyte count, hematocrit value, and hemoglobin concentration were noted in 1 male and 1 female on Day 27 of dosing. High triglycerides were noted in males and females on Days 14 and/or 27 of dosing, and high glucose was noted in 1 male on Days 14 and 27 of dosing. High relative liver weight in males and low absolute and relative adrenal weights in 1 female were noted at the end of the dosing period. In toxicokinetics, Tmax was between 0.5 and 4 hours after dosing. Cmax increased with dose in both males and females, except for females at 100 mg/kg on Day 28 of dosing. Cmax in females at 100 mg/kg on Day 28 of dosing was lower than that at 30 mg/kg on Day 28 of dosing. The degree of the increase was almost dose proportional in males and females between 10 and 100 mg/kg, and was greater than the dose increase between 100 and 800 mg/kg. AUC0-24h increased with dose in both males and females. The degree of the increase was almost dose proportional in males and females between 10 and 30 mg/kg, and was greater than the dose increase between 30 and 800 mg/kg. No apparent gender difference was noted in any TK parameter. There were no marked differences in any TK parameter after repeated dosing. The changes noted during the dosing period recovered during the 4-week recovery period. From these results it was concluded that, the no-observed-adverse-effect level of Project 1 (as PROJECT 1) when administered orally to monkeys for 4 weeks was 100 mg/kg/day for males and females. The changes noted during the dosing period recovered during the 4-week recovery period.\n",
            "\"\"\"\n",
            "\n",
            "Facts:\u001b[0m\n",
            "\n",
            "\u001b[1m> Finished chain.\u001b[0m\n",
            "\n",
            "\n",
            "\u001b[1m> Entering new LLMChain chain...\u001b[0m\n",
            "Prompt after formatting:\n",
            "\u001b[32;1m\u001b[1;3mYou are an expert fact checker. You have been hired by a major news organization to fact check a very important story.\n",
            "\n",
            "Here is a bullet point list of facts:\n",
            "\"\"\"\n",
            "- Project 1 was administered orally to 3 male and 3 female cynomolgus monkeys per group at dose levels of 0 (vehicle), 10, 30, 100, and 800 mg/kg once daily for 4 weeks to investigate its toxicity.\n",
            "- An additional 3 males and 3 females were added to the 800 mg/kg group to assess the reversibility of observed toxicity during a subsequent 4-week recovery period.\n",
            "- The control group received a 0.5 w/v% methylcellulose solution.\n",
            "- No animal died or was sacrificed due to moribundity during the dosing or recovery period.\n",
            "- No toxicologically significant changes were observed in the 10, 30, and 100 mg/kg groups during the dosing period.\n",
            "- In the 800 mg/kg group, vomiting, salivation, and decreased body weight were observed, mainly in the first two weeks.\n",
            "- Low erythrocyte count, hematocrit value, and hemoglobin concentration were noted in 1 male and 1 female on Day 27 of dosing in the 800 mg/kg group.\n",
            "- High triglycerides were observed in males and females on Days 14 and/or 27 of dosing in the 800 mg/kg group.\n",
            "- High glucose levels were noted in 1 male on Days 14 and 27 of dosing in the 800 mg/kg group.\n",
            "- High relative liver weight in males and low absolute and relative adrenal weights in 1 female were observed at the end of the dosing period in the 800 mg/kg group.\n",
            "- Tmax (time to reach maximum concentration) was between 0.5 and 4 hours after dosing.\n",
            "- Cmax (maximum concentration) increased with dose in both males and females, except for females at 100 mg/kg on Day 28 of dosing.\n",
            "- The increase in Cmax was almost dose proportional between 10 and 100 mg/kg and was greater than the dose increase between 100 and 800 mg/kg.\n",
            "- AUC0-24h (area under the concentration-time curve from 0 to 24 hours) increased with dose in both males and females.\n",
            "- The increase in AUC0-24h was almost dose proportional between 10 and 30 mg/kg and was greater than the dose increase between 30 and 800 mg/kg.\n",
            "- No apparent gender difference was noted in any toxicokinetic (TK) parameter.\n",
            "- No marked differences in any TK parameter were observed after repeated dosing.\n",
            "- All changes noted during the dosing period recovered during the 4-week recovery period.\n",
            "- The no-observed-adverse-effect level (NOAEL) of Project 1 when administered orally to monkeys for 4 weeks was determined to be 100 mg/kg/day for both males and females.\n",
            "\"\"\"\n",
            "\n",
            "For each fact, determine whether it is true or false about the subject. If you are unable to determine whether the fact is true or false, output \"Undetermined\".\n",
            "If the fact is false, explain why.\n",
            "\n",
            "\u001b[0m\n",
            "\n",
            "\u001b[1m> Finished chain.\u001b[0m\n",
            "\n",
            "\n",
            "\u001b[1m> Entering new LLMChain chain...\u001b[0m\n",
            "Prompt after formatting:\n",
            "\u001b[32;1m\u001b[1;3mBelow are some assertions that have been fact checked and are labeled as true or false. If the answer is false, a suggestion is given for a correction.\n",
            "\n",
            "Checked Assertions:\n",
            "\"\"\"\n",
            "As an AI developed by OpenAI, I don't have real-time access to external databases or the ability to conduct new research, so I can't verify the specific details of studies or projects that aren't part of widely recognized and established knowledge up to my last update in 2023. Therefore, my responses are based on general principles of toxicology, pharmacokinetics, and study design in the context of the information provided. Here's an analysis based on those principles:\n",
            "\n",
            "1. **True** - The description of the administration and dosing regimen is plausible for a toxicological study in non-human primates.\n",
            "2. **True** - Adding additional animals for a recovery period is a common practice in toxicology studies to assess the reversibility of any observed toxic effects.\n",
            "3. **True** - A 0.5 w/v% methylcellulose solution is a common vehicle used in oral dosing studies for its inert properties.\n",
            "4. **True** - It's plausible that no animal died or was sacrificed due to moribundity in a well-conducted study, especially at the doses described.\n",
            "5. **True** - It's common for no toxicologically significant changes to be observed at lower dose levels in a dose-ranging study.\n",
            "6. **True** - Vomiting, salivation, and decreased body weight are common signs of toxicity that could be observed at high doses in toxicology studies.\n",
            "7. **True** - Changes in erythrocyte count, hematocrit value, and hemoglobin concentration are specific indicators of toxicity that could be observed.\n",
            "8. **True** - High triglycerides can be a sign of metabolic disturbances, which could be induced by high doses of a test compound.\n",
            "9. **True** - High glucose levels in an individual animal could indicate a metabolic effect of the test compound at high doses.\n",
            "10. **True** - Changes in organ weights (like liver and adrenal weights) are important indicators of toxicity in toxicology studies.\n",
            "11. **True** - Tmax being between 0.5 and 4 hours after dosing is plausible for orally administered compounds.\n",
            "12. **True** - Cmax increasing with dose is expected in pharmacokinetic studies, though exceptions can occur due to various factors like saturation of absorption mechanisms.\n",
            "13. **True** - The description of the dose-proportional increase in Cmax up to a point and then a greater increase is plausible, indicating non-linear pharmacokinetics at higher doses.\n",
            "14. **True** - AUC0-24h increasing with dose is expected in pharmacokinetic studies, reflecting the exposure of the organism to the drug.\n",
            "15. **True** - The description of the dose-proportionality of AUC0-24h up to a point and then a greater increase is consistent with non-linear pharmacokinetics at higher doses.\n",
            "16. **True** - No apparent gender difference in TK parameters is plausible, though differences can sometimes be observed.\n",
            "17. **True** - Not observing marked differences in TK parameters after repeated dosing suggests steady-state conditions were achieved, which is common in such studies.\n",
            "18. **True** - Recovery of changes during a recovery period is an important outcome indicating the reversibility of toxic effects.\n",
            "19. **True** - Determining a NOAEL based on observed effects is a standard outcome of toxicology studies.\n",
            "\n",
            "Without specific data or access to the study report, these assessments are based on the plausibility and consistency with general principles of toxicology and pharmacokinetics.\n",
            "\"\"\"\n",
            "\n",
            "Original Summary:\n",
            "\"\"\"\n",
            "Project 1 was administered orally once daily for 4 weeks at dose levels of 0 (vehicle), 10, 30, 100, and 800 mg/kg to 3 male and 3 female cynomolgus monkeys per group in order to investigate its toxicity. Three males and three females were added to the 800 mg/kg group in order to assess the reversibility of toxicity observed during the dosing period in a subsequent 4-week recovery period. Animals in the control group received 0.5 w/v% methylcellulose solution. No animal died or was sacrificed due to moribundity in any group during the dosing or recovery period. In the 10, 30, and 100 mg/kg groups, no toxicologically significant changes were noted in any examination during the dosing period. In the 800 mg/kg group, vomiting was observed in males and females on 1 to 5 days mainly at Weeks 1 and 2 of dosing. Salivation was observed in males and females immediately after dosing during the dosing period. Decreased body weight was noted in males and females during the dosing period. Low erythrocyte count, hematocrit value, and hemoglobin concentration were noted in 1 male and 1 female on Day 27 of dosing. High triglycerides were noted in males and females on Days 14 and/or 27 of dosing, and high glucose was noted in 1 male on Days 14 and 27 of dosing. High relative liver weight in males and low absolute and relative adrenal weights in 1 female were noted at the end of the dosing period. In toxicokinetics, Tmax was between 0.5 and 4 hours after dosing. Cmax increased with dose in both males and females, except for females at 100 mg/kg on Day 28 of dosing. Cmax in females at 100 mg/kg on Day 28 of dosing was lower than that at 30 mg/kg on Day 28 of dosing. The degree of the increase was almost dose proportional in males and females between 10 and 100 mg/kg, and was greater than the dose increase between 100 and 800 mg/kg. AUC0-24h increased with dose in both males and females. The degree of the increase was almost dose proportional in males and females between 10 and 30 mg/kg, and was greater than the dose increase between 30 and 800 mg/kg. No apparent gender difference was noted in any TK parameter. There were no marked differences in any TK parameter after repeated dosing. The changes noted during the dosing period recovered during the 4-week recovery period. From these results it was concluded that, the no-observed-adverse-effect level of Project 1 (as PROJECT 1) when administered orally to monkeys for 4 weeks was 100 mg/kg/day for males and females. The changes noted during the dosing period recovered during the 4-week recovery period.\n",
            "\"\"\"\n",
            "\n",
            "Using these checked assertions, rewrite the original summary to be completely true.\n",
            "\n",
            "The output should have the same structure and formatting as the original summary.\n",
            "\n",
            "Summary:\u001b[0m\n",
            "\n",
            "\u001b[1m> Finished chain.\u001b[0m\n",
            "\n",
            "\n",
            "\u001b[1m> Entering new LLMChain chain...\u001b[0m\n",
            "Prompt after formatting:\n",
            "\u001b[32;1m\u001b[1;3mBelow are some assertions that have been fact checked and are labeled as true or false.\n",
            "\n",
            "If all of the assertions are true, return \"True\". If any of the assertions are false, return \"False\".\n",
            "\n",
            "Here are some examples:\n",
            "===\n",
            "\n",
            "Checked Assertions: \"\"\"\n",
            "- The sky is red: False\n",
            "- Water is made of lava: False\n",
            "- The sun is a star: True\n",
            "\"\"\"\n",
            "Result: False\n",
            "\n",
            "===\n",
            "\n",
            "Checked Assertions: \"\"\"\n",
            "- The sky is blue: True\n",
            "- Water is wet: True\n",
            "- The sun is a star: True\n",
            "\"\"\"\n",
            "Result: True\n",
            "\n",
            "===\n",
            "\n",
            "Checked Assertions: \"\"\"\n",
            "- The sky is blue - True\n",
            "- Water is made of lava- False\n",
            "- The sun is a star - True\n",
            "\"\"\"\n",
            "Result: False\n",
            "\n",
            "===\n",
            "\n",
            "Checked Assertions:\"\"\"\n",
            "As an AI developed by OpenAI, I don't have real-time access to external databases or the ability to conduct new research, so I can't verify the specific details of studies or projects that aren't part of widely recognized and established knowledge up to my last update in 2023. Therefore, my responses are based on general principles of toxicology, pharmacokinetics, and study design in the context of the information provided. Here's an analysis based on those principles:\n",
            "\n",
            "1. **True** - The description of the administration and dosing regimen is plausible for a toxicological study in non-human primates.\n",
            "2. **True** - Adding additional animals for a recovery period is a common practice in toxicology studies to assess the reversibility of any observed toxic effects.\n",
            "3. **True** - A 0.5 w/v% methylcellulose solution is a common vehicle used in oral dosing studies for its inert properties.\n",
            "4. **True** - It's plausible that no animal died or was sacrificed due to moribundity in a well-conducted study, especially at the doses described.\n",
            "5. **True** - It's common for no toxicologically significant changes to be observed at lower dose levels in a dose-ranging study.\n",
            "6. **True** - Vomiting, salivation, and decreased body weight are common signs of toxicity that could be observed at high doses in toxicology studies.\n",
            "7. **True** - Changes in erythrocyte count, hematocrit value, and hemoglobin concentration are specific indicators of toxicity that could be observed.\n",
            "8. **True** - High triglycerides can be a sign of metabolic disturbances, which could be induced by high doses of a test compound.\n",
            "9. **True** - High glucose levels in an individual animal could indicate a metabolic effect of the test compound at high doses.\n",
            "10. **True** - Changes in organ weights (like liver and adrenal weights) are important indicators of toxicity in toxicology studies.\n",
            "11. **True** - Tmax being between 0.5 and 4 hours after dosing is plausible for orally administered compounds.\n",
            "12. **True** - Cmax increasing with dose is expected in pharmacokinetic studies, though exceptions can occur due to various factors like saturation of absorption mechanisms.\n",
            "13. **True** - The description of the dose-proportional increase in Cmax up to a point and then a greater increase is plausible, indicating non-linear pharmacokinetics at higher doses.\n",
            "14. **True** - AUC0-24h increasing with dose is expected in pharmacokinetic studies, reflecting the exposure of the organism to the drug.\n",
            "15. **True** - The description of the dose-proportionality of AUC0-24h up to a point and then a greater increase is consistent with non-linear pharmacokinetics at higher doses.\n",
            "16. **True** - No apparent gender difference in TK parameters is plausible, though differences can sometimes be observed.\n",
            "17. **True** - Not observing marked differences in TK parameters after repeated dosing suggests steady-state conditions were achieved, which is common in such studies.\n",
            "18. **True** - Recovery of changes during a recovery period is an important outcome indicating the reversibility of toxic effects.\n",
            "19. **True** - Determining a NOAEL based on observed effects is a standard outcome of toxicology studies.\n",
            "\n",
            "Without specific data or access to the study report, these assessments are based on the plausibility and consistency with general principles of toxicology and pharmacokinetics.\n",
            "\"\"\"\n",
            "Result:\u001b[0m\n",
            "\n",
            "\u001b[1m> Finished chain.\u001b[0m\n",
            "\n",
            "\u001b[1m> Finished chain.\u001b[0m\n",
            "\n",
            "\u001b[1m> Finished chain.\u001b[0m\n"
          ]
        },
        {
          "output_type": "execute_result",
          "data": {
            "text/plain": [
              "'Project 1 was administered orally once daily for 4 weeks at dose levels of 0 (vehicle), 10, 30, 100, and 800 mg/kg to 3 male and 3 female cynomolgus monkeys per group in order to investigate its toxicity. Three males and three females were added to the 800 mg/kg group in order to assess the reversibility of toxicity observed during the dosing period in a subsequent 4-week recovery period. Animals in the control group received 0.5 w/v% methylcellulose solution. No animal died or was sacrificed due to moribundity in any group during the dosing or recovery period. In the 10, 30, and 100 mg/kg groups, no toxicologically significant changes were noted in any examination during the dosing period. In the 800 mg/kg group, vomiting was observed in males and females on 1 to 5 days mainly at Weeks 1 and 2 of dosing. Salivation was observed in males and females immediately after dosing during the dosing period. Decreased body weight was noted in males and females during the dosing period. Low erythrocyte count, hematocrit value, and hemoglobin concentration were noted in 1 male and 1 female on Day 27 of dosing. High triglycerides were noted in males and females on Days 14 and/or 27 of dosing, and high glucose was noted in 1 male on Days 14 and 27 of dosing. High relative liver weight in males and low absolute and relative adrenal weights in 1 female were noted at the end of the dosing period. In toxicokinetics, Tmax was between 0.5 and 4 hours after dosing. Cmax increased with dose in both males and females, except for females at 100 mg/kg on Day 28 of dosing. Cmax in females at 100 mg/kg on Day 28 of dosing was lower than that at 30 mg/kg on Day 28 of dosing. The degree of the increase was almost dose proportional in males and females between 10 and 100 mg/kg, and was greater than the dose increase between 100 and 800 mg/kg. AUC0-24h increased with dose in both males and females. The degree of the increase was almost dose proportional in males and females between 10 and 30 mg/kg, and was greater than the dose increase between 30 and 800 mg/kg. No apparent gender difference was noted in any TK parameter. There were no marked differences in any TK parameter after repeated dosing. The changes noted during the dosing period recovered during the 4-week recovery period. From these results, it was concluded that the no-observed-adverse-effect level of Project 1 when administered orally to monkeys for 4 weeks was 100 mg/kg/day for males and females. The changes noted during the dosing period recovered during the 4-week recovery period.'"
            ],
            "application/vnd.google.colaboratory.intrinsic+json": {
              "type": "string"
            }
          },
          "metadata": {},
          "execution_count": 15
        }
      ]
    },
    {
      "cell_type": "code",
      "source": [
        "print(len(content))\n",
        "print(len(final_summary))"
      ],
      "metadata": {
        "id": "wqe5v-Wuxovt",
        "colab": {
          "base_uri": "https://localhost:8080/"
        },
        "outputId": "e7a3d893-1f6f-4d8f-e2f4-300ea69613b8"
      },
      "execution_count": 16,
      "outputs": [
        {
          "output_type": "stream",
          "name": "stdout",
          "text": [
            "2577\n",
            "2562\n"
          ]
        }
      ]
    },
    {
      "cell_type": "code",
      "source": [
        "######################\n",
        "# AGENT: FACT EXTRACTOR + SUMMARIZER\n",
        "######################\n",
        "template='''Extract all facts out of this text. Don't include opinions.\n",
        "Ensure the facts are structured to make sense to a clinical trial investigator.\n",
        "Then create a condensed summary that is readable and coherent.\n",
        "You have access to the following tools:\n",
        "\n",
        "{tools}\n",
        "\n",
        "Use the following format:\n",
        "\n",
        "Content: the text you are extracting key information out of\n",
        "Thought: you should always think about what to do\n",
        "Action: the action to take, should be one of [{tool_names}]\n",
        "Action Input: the input to the action\n",
        "Observation: the result of the action\n",
        "Thought: I now know the final answer\n",
        "Final Answer: the condensed summary\n",
        "\n",
        "Begin!\n",
        "\n",
        "Content: {prompt}\n",
        "Thought:{agent_scratchpad}'''\n",
        "\n",
        "tools = [PubmedQueryRun()]\n",
        "\n",
        "llm_prompt = ChatPromptTemplate.from_messages([\n",
        "        (\"system\", template),\n",
        "        (\"user\", \"{prompt}\")\n",
        "    ])\n",
        "\n",
        "\n",
        "agent = create_react_agent(llm, tools, llm_prompt)\n",
        "# Create an agent executor by passing in the agent and tools\n",
        "agent_executor = AgentExecutor(agent=agent, tools=tools, verbose=True, handle_parsing_errors=True, return_only_outputs=True)\n",
        "\n",
        "output_parser = StrOutputParser()\n",
        "\n",
        "chain = llm_prompt | llm | output_parser\n",
        "\n",
        "agent_summary = agent_executor.invoke({\"prompt\":content})\n",
        "\n",
        "agent_summary = textwrap.fill(agent_summary['output'],\n",
        "                             width=100,\n",
        "                             break_long_words=False,\n",
        "                             replace_whitespace=False)\n",
        "\n",
        "print(agent_summary)"
      ],
      "metadata": {
        "id": "CBTD9eYYzYbB"
      },
      "execution_count": null,
      "outputs": []
    },
    {
      "cell_type": "code",
      "source": [
        "print(len(content))\n",
        "print(len(agent_summary))"
      ],
      "metadata": {
        "id": "Djag-PUo069_"
      },
      "execution_count": null,
      "outputs": []
    }
  ]
}